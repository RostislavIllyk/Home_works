{
 "cells": [
  {
   "cell_type": "markdown",
   "metadata": {},
   "source": [
    "1. Сравните метрики hit_rate@k, precision@k.   \n",
    "Какую метрику использовать предпочтительно и почему?  \n",
    "Приведите пример 2-3 задач (опишите, что является клиентом, что товаром), в которой более уместно использовать метрику hit_rate?\n"
   ]
  },
  {
   "cell_type": "markdown",
   "metadata": {},
   "source": [
    "__Hit_rate@k__ будем использовать тогда когда ожидаем от покупателя разового действаия - одну покупку (покупка дома, квартиры, машины, отдыха за границей).  \n",
    "__Precision@k__ будем использовать тогда когда имеем слчай покупки многих вещей одновременно (поход в гастроном)."
   ]
  },
  {
   "cell_type": "markdown",
   "metadata": {},
   "source": [
    "2. В метрике NDCG@k мы используем логарифм в знаменателе. Как Вы думаете, почему именно логарифм? Какую функцию можно использовать вместо логарифма? Привидите пример метрик/подходов к предобработке данных/функций ошибок в ML, где также в  логарифм.\n",
    "\n"
   ]
  },
  {
   "cell_type": "markdown",
   "metadata": {},
   "source": [
    "Вместо логарифма можно использовать любую другую \"медленно и плавно\" возрастающую функцию. На пример модуль корня n-й степени. Показателем степени можем отрегулировать веса позиций.  \n",
    "Логарифмирование или взятие степени - широко известный прием изменения исходного распределения данных.  \n",
    "Есть функция ошибки: __MeanSquaredLogarithmicError__ loss = square(log(y_true + 1.) - log(y_pred + 1.))"
   ]
  },
  {
   "cell_type": "markdown",
   "metadata": {},
   "source": [
    "3. Какие еще метрики (Вы можете вспомнить уже пройденные Вами или посмотреть в интернете) могут использоваться для рекомендательных систем (приведите примеры метрики **и чем являются интеракции**, чтобы она могла быть использована)."
   ]
  },
  {
   "cell_type": "markdown",
   "metadata": {},
   "source": [
    "__Мера Жаккара.__  Можно исползовать для оценки того насколько хорошо было сделано предсказание покупок пользователя по сравнению с действительными покупками."
   ]
  },
  {
   "cell_type": "markdown",
   "metadata": {},
   "source": [
    "4. boughted = [1, 3, 5, 7, 9, 11]  \n",
    "recommended = [2, 5, 7, 4, 11, 9, 8, 10, 12, 3]  \n",
    "Посчитайте на этих данных pr@8, rec@8, AP@8, NDCG@8, MRR@8,  \n",
    "Сначала поссчитайет \"руками\", а затем подтвердите рассчеты с помощью функций (некоторые были на семинаре, некоторые нужно будут написать самостоятельно)\n",
    "\n",
    "IDCG должен считаться для всех 8 позиций рекомендаций"
   ]
  },
  {
   "cell_type": "code",
   "execution_count": 1,
   "metadata": {},
   "outputs": [
    {
     "data": {
      "text/plain": [
       "[2, 5, 7, 4, 11, 9, 8, 10]"
      ]
     },
     "execution_count": 1,
     "metadata": {},
     "output_type": "execute_result"
    }
   ],
   "source": [
    "import numpy as np\n",
    "boughted = [1, 3, 5, 7, 9, 11]\n",
    "recommended = [2, 5, 7, 4, 11, 9, 8, 10, 12, 3]\n",
    "recommended = recommended[:8]\n",
    "recommended"
   ]
  },
  {
   "cell_type": "code",
   "execution_count": 2,
   "metadata": {},
   "outputs": [],
   "source": [
    "def precision_at_k(recommended_list, bought_list, k=5):\n",
    "    \n",
    "    bought_list = np.array(bought_list)\n",
    "    recommended_list = np.array(recommended_list)\n",
    "    \n",
    "    bought_list = bought_list  # Тут нет [:k] !!\n",
    "    recommended_list = recommended_list[:k]\n",
    "    \n",
    "    flags = np.isin(bought_list, recommended_list)\n",
    "    precision = flags.sum() / len(recommended_list)\n",
    "        \n",
    "    return precision"
   ]
  },
  {
   "cell_type": "code",
   "execution_count": 3,
   "metadata": {},
   "outputs": [],
   "source": [
    "def recall_at_k(recommended_list, bought_list, k=5):\n",
    "    bought_list = np.array(bought_list)\n",
    "    recommended_list = np.array(recommended_list)[:k]\n",
    "    \n",
    "    flags = np.isin(bought_list, recommended_list)\n",
    "    \n",
    "    recall = flags.sum() / len(bought_list)\n",
    "    \n",
    "    return recall"
   ]
  },
  {
   "cell_type": "code",
   "execution_count": 4,
   "metadata": {},
   "outputs": [],
   "source": [
    "def ap_k(recommended_list, bought_list, k=5):\n",
    "    \n",
    "    bought_list = np.array(bought_list)\n",
    "    recommended_list = np.array(recommended_list)[:k]\n",
    "    \n",
    "    flags = np.isin(recommended_list, bought_list)\n",
    "    \n",
    "    if sum(flags) == 0:\n",
    "        return 0\n",
    "    \n",
    "    sum_ = 0\n",
    "    for i in range(0, k): \n",
    "        if flags[i] == True:\n",
    "            p_k = precision_at_k(recommended_list, bought_list, k=i+1)\n",
    "            sum_ += p_k\n",
    "            \n",
    "    result = sum_ / len(flags)\n",
    "    \n",
    "    return result"
   ]
  },
  {
   "cell_type": "code",
   "execution_count": 5,
   "metadata": {},
   "outputs": [],
   "source": [
    "def get_NDCG(recommended_list, bought_list):\n",
    "    up=0.\n",
    "    down=0.\n",
    "    for i, item_rec in enumerate(recommended_list):\n",
    "        for item_bought in bought_list:\n",
    "            if item_rec == item_bought:\n",
    "                if i==0:\n",
    "                    up=1\n",
    "                else:\n",
    "                    up = up + (i+1)/(np.log(i+1))\n",
    "        if i==0:\n",
    "            down=1    \n",
    "        else:\n",
    "            down = down+(i+1)/(np.log(i+1))\n",
    "    result=up/down            \n",
    "    return result"
   ]
  },
  {
   "cell_type": "code",
   "execution_count": 6,
   "metadata": {},
   "outputs": [],
   "source": [
    "def reciprocal_rank(recommended_list, bought_list):\n",
    "    ranks=0.\n",
    "    for i, item_rec in enumerate(recommended_list):\n",
    "        for item_bought in bought_list:\n",
    "            if item_rec == item_bought:\n",
    "                ranks += 1 / (i+1)\n",
    "    return ranks / len(recommended_list)"
   ]
  },
  {
   "cell_type": "markdown",
   "metadata": {},
   "source": [
    "$pr_at8 =  len([5, 7, 9, 11])/len([2, 5, 7, 4, 11, 9, 8, 10])$     \n",
    "$pr_at8 = 0.5$"
   ]
  },
  {
   "cell_type": "code",
   "execution_count": 7,
   "metadata": {},
   "outputs": [
    {
     "data": {
      "text/plain": [
       "0.5"
      ]
     },
     "execution_count": 7,
     "metadata": {},
     "output_type": "execute_result"
    }
   ],
   "source": [
    "pr_at8 = precision_at_k(recommended, boughted, k=8)\n",
    "pr_at8"
   ]
  },
  {
   "cell_type": "markdown",
   "metadata": {},
   "source": [
    "$rec_at8 = len([5, 7, 11, 9])/len([1, 3, 5, 7, 9, 11])$  \n",
    "$rec_at8 = 0.6666666666666666$"
   ]
  },
  {
   "cell_type": "code",
   "execution_count": 8,
   "metadata": {},
   "outputs": [
    {
     "data": {
      "text/plain": [
       "0.6666666666666666"
      ]
     },
     "execution_count": 8,
     "metadata": {},
     "output_type": "execute_result"
    }
   ],
   "source": [
    "rec_at8 = recall_at_k(recommended, boughted, k=8)\n",
    "rec_at8"
   ]
  },
  {
   "cell_type": "markdown",
   "metadata": {},
   "source": [
    "$[1, 3, 5, 7, 9, 11]$  \n",
    "$[2, 5, 7, 4, 11, 9, 8, 10]$  \n",
    "$pr_at1 = 0$  \n",
    "$pr_at2 = 1/2$  \n",
    "$pr_at3 = 2/3$  \n",
    "$pr_at4 = 0$  \n",
    "$pr_at5 = 3/5$  \n",
    "$pr_at6 = 4/6$  \n",
    "$pr_at7 = 0$  \n",
    "$pr_at8 = 0$  \n",
    "  \n",
    "$ap_at1 = (0 + 1/2 + 2/3 + 0 + 3/5 + 4/6 + 0 + 0)/8$  \n",
    "$ap_at1 = 0.30416666666666664$"
   ]
  },
  {
   "cell_type": "code",
   "execution_count": 9,
   "metadata": {},
   "outputs": [
    {
     "data": {
      "text/plain": [
       "0.30416666666666664"
      ]
     },
     "execution_count": 9,
     "metadata": {},
     "output_type": "execute_result"
    }
   ],
   "source": [
    "ap_at8 = ap_k(recommended, boughted, k=8)\n",
    "ap_at8"
   ]
  },
  {
   "cell_type": "markdown",
   "metadata": {},
   "source": [
    "$[1, 3, 5, 7, 9, 11]$  \n",
    "$[2, 5, 7, 4, 11, 9, 8, 10]$  \n",
    "\n",
    "$ndcg_at8 = (0 + 1/log(2) + 1/log(3) + 0 + 1/log(5) + 1/log(6) + 0 + 0) / \n",
    "(1 + 1/log(2) + 1/log(3) + 1/log(4) + 1/log(5) + 1/log(6) + 1/log(7) + 1/log(8))$  \n",
    "$ndcg_at8 = 0.5158448585530564$"
   ]
  },
  {
   "cell_type": "code",
   "execution_count": 10,
   "metadata": {},
   "outputs": [
    {
     "data": {
      "text/plain": [
       "0.5158448585530564"
      ]
     },
     "execution_count": 10,
     "metadata": {},
     "output_type": "execute_result"
    }
   ],
   "source": [
    "ndcg_at8 = get_NDCG(recommended, boughted)\n",
    "ndcg_at8"
   ]
  },
  {
   "cell_type": "markdown",
   "metadata": {},
   "source": [
    "$[1, 3, 5, 7, 9, 11]$  \n",
    "$[2, 5, 7, 4, 11, 9, 8, 10]$  \n",
    "\n",
    "$mrr_at8 = (1/2 + 1/3 + 1/5 + 1/6)/8$  \n",
    "$mrr_at8 = 0.15$"
   ]
  },
  {
   "cell_type": "code",
   "execution_count": 11,
   "metadata": {},
   "outputs": [
    {
     "data": {
      "text/plain": [
       "0.15"
      ]
     },
     "execution_count": 11,
     "metadata": {},
     "output_type": "execute_result"
    }
   ],
   "source": [
    "mrr_at8 = reciprocal_rank(recommended, boughted)\n",
    "mrr_at8"
   ]
  },
  {
   "cell_type": "code",
   "execution_count": null,
   "metadata": {},
   "outputs": [],
   "source": []
  }
 ],
 "metadata": {
  "kernelspec": {
   "display_name": "Python 3",
   "language": "python",
   "name": "python3"
  },
  "language_info": {
   "codemirror_mode": {
    "name": "ipython",
    "version": 3
   },
   "file_extension": ".py",
   "mimetype": "text/x-python",
   "name": "python",
   "nbconvert_exporter": "python",
   "pygments_lexer": "ipython3",
   "version": "3.7.9"
  }
 },
 "nbformat": 4,
 "nbformat_minor": 2
}
